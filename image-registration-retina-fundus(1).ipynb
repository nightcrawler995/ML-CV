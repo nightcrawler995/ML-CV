{
 "cells": [
  {
   "cell_type": "markdown",
   "id": "695a73aa",
   "metadata": {
    "execution": {
     "iopub.execute_input": "2023-10-17T23:36:21.651223Z",
     "iopub.status.busy": "2023-10-17T23:36:21.650930Z",
     "iopub.status.idle": "2023-10-17T23:36:23.621194Z",
     "shell.execute_reply": "2023-10-17T23:36:23.620388Z",
     "shell.execute_reply.started": "2023-10-17T23:36:21.651198Z"
    },
    "papermill": {
     "duration": 0.002594,
     "end_time": "2023-12-20T08:58:06.860015",
     "exception": false,
     "start_time": "2023-12-20T08:58:06.857421",
     "status": "completed"
    },
    "tags": []
   },
   "source": [
    "# Image Registration of Retina Fundus Images \n",
    "(to maximize mutual information)"
   ]
  },
  {
   "cell_type": "code",
   "execution_count": 1,
   "id": "7d774cc0",
   "metadata": {
    "execution": {
     "iopub.execute_input": "2023-12-20T08:58:06.879177Z",
     "iopub.status.busy": "2023-12-20T08:58:06.878161Z",
     "iopub.status.idle": "2023-12-20T08:58:08.180378Z",
     "shell.execute_reply": "2023-12-20T08:58:08.179228Z"
    },
    "papermill": {
     "duration": 1.312158,
     "end_time": "2023-12-20T08:58:08.184374",
     "exception": false,
     "start_time": "2023-12-20T08:58:06.872216",
     "status": "completed"
    },
    "tags": []
   },
   "outputs": [],
   "source": [
    "import numpy as np\n",
    "import cv2\n",
    "import matplotlib.pyplot as plt\n",
    "import pandas as pd \n",
    "from numpy import array \n",
    "from numpy import asarray \n",
    "from numpy import savetxt"
   ]
  },
  {
   "cell_type": "code",
   "execution_count": 2,
   "id": "364fae3c",
   "metadata": {
    "execution": {
     "iopub.execute_input": "2023-12-20T08:58:08.193813Z",
     "iopub.status.busy": "2023-12-20T08:58:08.192918Z",
     "iopub.status.idle": "2023-12-20T08:58:11.325168Z",
     "shell.execute_reply": "2023-12-20T08:58:11.323992Z"
    },
    "papermill": {
     "duration": 3.14032,
     "end_time": "2023-12-20T08:58:11.328237",
     "exception": false,
     "start_time": "2023-12-20T08:58:08.187917",
     "status": "completed"
    },
    "tags": []
   },
   "outputs": [],
   "source": [
    "imgrefc=cv2.imread(\"/kaggle/input/image-registration-retina-fundus/images_registration_images/images_test/A01_1.jpg\")\n",
    "img1c=cv2.imread(\"/kaggle/input/image-registration-retina-fundus/images_registration_images/images_test/A08_1.jpg\")\n",
    "img2c=cv2.imread(\"/kaggle/input/image-registration-retina-fundus/images_registration_images/images_test/A02_1.jpg\")\n",
    "img3c=cv2.imread(\"/kaggle/input/image-registration-retina-fundus/images_registration_images/images_test/P05_1.jpg\")\n",
    "img4c=cv2.imread(\"/kaggle/input/image-registration-retina-fundus/images_registration_images/images_test/P03_1.jpg\")\n",
    "img5c=cv2.imread(\"/kaggle/input/image-registration-retina-fundus/images_registration_images/images_test/P01_1.jpg\")\n",
    "img6c=cv2.imread(\"/kaggle/input/image-registration-retina-fundus/images_registration_images/images_test/P04_1.jpg\")\n",
    "img7c=cv2.imread(\"/kaggle/input/image-registration-retina-fundus/images_registration_images/images_test/A06_1.jpg\")\n",
    "img8c=cv2.imread(\"/kaggle/input/image-registration-retina-fundus/images_registration_images/images_test/A11_1.jpg\")\n",
    "img9c=cv2.imread(\"/kaggle/input/image-registration-retina-fundus/images_registration_images/images_test/A10_1.jpg\")\n",
    "img10c=cv2.imread(\"/kaggle/input/image-registration-retina-fundus/images_registration_images/images_test/P02_1.jpg\")\n",
    "img11c=cv2.imread(\"/kaggle/input/image-registration-retina-fundus/images_registration_images/images_test/A14_1.jpg\")\n",
    "img12c=cv2.imread(\"/kaggle/input/image-registration-retina-fundus/images_registration_images/images_test/A07_1.jpg\")\n",
    "img13c=cv2.imread(\"/kaggle/input/image-registration-retina-fundus/images_registration_images/images_test/A04_1.jpg\")\n",
    "img14c=cv2.imread(\"/kaggle/input/image-registration-retina-fundus/images_registration_images/images_test/P06_1.jpg\")\n",
    "img15c=cv2.imread(\"/kaggle/input/image-registration-retina-fundus/images_registration_images/images_test/A03_1.jpg\")\n",
    "img16c=cv2.imread(\"/kaggle/input/image-registration-retina-fundus/images_registration_images/images_test/A13_1.jpg\")\n",
    "img17c=cv2.imread(\"/kaggle/input/image-registration-retina-fundus/images_registration_images/images_test/A09_1.jpg\")\n",
    "img18c=cv2.imread(\"/kaggle/input/image-registration-retina-fundus/images_registration_images/images_test/A05_1.jpg\")\n",
    "img19c=cv2.imread(\"/kaggle/input/image-registration-retina-fundus/images_registration_images/images_test/A12_1.jpg\")\n",
    "\n",
    "imgref = cv2.cvtColor(imgrefc, cv2.COLOR_BGR2GRAY)\n",
    "img1 = cv2.cvtColor(img1c, cv2.COLOR_BGR2GRAY)\n",
    "img2 = cv2.cvtColor(img2c, cv2.COLOR_BGR2GRAY)\n",
    "img3 = cv2.cvtColor(img3c, cv2.COLOR_BGR2GRAY)\n",
    "img4 = cv2.cvtColor(img4c, cv2.COLOR_BGR2GRAY)\n",
    "img5 = cv2.cvtColor(img5c, cv2.COLOR_BGR2GRAY)\n",
    "img6 = cv2.cvtColor(img6c, cv2.COLOR_BGR2GRAY)\n",
    "img7 = cv2.cvtColor(img7c, cv2.COLOR_BGR2GRAY)\n",
    "img8 = cv2.cvtColor(img8c, cv2.COLOR_BGR2GRAY)\n",
    "img9 = cv2.cvtColor(img9c, cv2.COLOR_BGR2GRAY)\n",
    "img10 = cv2.cvtColor(img10c, cv2.COLOR_BGR2GRAY)\n",
    "img11 = cv2.cvtColor(img11c, cv2.COLOR_BGR2GRAY)\n",
    "img12 = cv2.cvtColor(img12c, cv2.COLOR_BGR2GRAY)\n",
    "img13 = cv2.cvtColor(img13c, cv2.COLOR_BGR2GRAY)\n",
    "img14 = cv2.cvtColor(img14c, cv2.COLOR_BGR2GRAY)\n",
    "img15 = cv2.cvtColor(img15c, cv2.COLOR_BGR2GRAY)\n",
    "img16 = cv2.cvtColor(img16c, cv2.COLOR_BGR2GRAY)\n",
    "img17 = cv2.cvtColor(img17c, cv2.COLOR_BGR2GRAY)\n",
    "img18 = cv2.cvtColor(img18c, cv2.COLOR_BGR2GRAY)\n",
    "img19 = cv2.cvtColor(img19c, cv2.COLOR_BGR2GRAY)\n",
    "\n",
    "fin_imgref = cv2.resize(imgref, (256,256))\n",
    "fin_img1 = cv2.resize(img1, (256,256))\n",
    "fin_img2 = cv2.resize(img2, (256,256))\n",
    "fin_img3 = cv2.resize(img3, (256,256))\n",
    "fin_img4 = cv2.resize(img4, (256,256))\n",
    "fin_img5 = cv2.resize(img5, (256,256))\n",
    "fin_img6 = cv2.resize(img6, (256,256))\n",
    "fin_img7 = cv2.resize(img7, (256,256))\n",
    "fin_img8 = cv2.resize(img8, (256,256))\n",
    "fin_img9 = cv2.resize(img9, (256,256))\n",
    "fin_img10 = cv2.resize(img10, (256,256))\n",
    "fin_img11 = cv2.resize(img11, (256,256))\n",
    "fin_img12 = cv2.resize(img12, (256,256))\n",
    "fin_img13 = cv2.resize(img13, (256,256))\n",
    "fin_img14 = cv2.resize(img14, (256,256))\n",
    "fin_img15 = cv2.resize(img15, (256,256))\n",
    "fin_img16 = cv2.resize(img16, (256,256))\n",
    "fin_img17 = cv2.resize(img17, (256,256))\n",
    "fin_img18 = cv2.resize(img18, (256,256))\n",
    "fin_img19 = cv2.resize(img19, (256,256))"
   ]
  },
  {
   "cell_type": "code",
   "execution_count": 3,
   "id": "c412d751",
   "metadata": {
    "execution": {
     "iopub.execute_input": "2023-12-20T08:58:11.338228Z",
     "iopub.status.busy": "2023-12-20T08:58:11.337570Z",
     "iopub.status.idle": "2023-12-20T08:58:11.482149Z",
     "shell.execute_reply": "2023-12-20T08:58:11.481206Z"
    },
    "papermill": {
     "duration": 0.152788,
     "end_time": "2023-12-20T08:58:11.484795",
     "exception": false,
     "start_time": "2023-12-20T08:58:11.332007",
     "status": "completed"
    },
    "tags": []
   },
   "outputs": [],
   "source": [
    "orb_detector = cv2.ORB_create(5000)\n",
    "\n",
    "kp1, d1 = orb_detector.detectAndCompute(fin_imgref, None)\n",
    "kp2, d2 = orb_detector.detectAndCompute(fin_img1, None)\n",
    "kp3, d3 = orb_detector.detectAndCompute(fin_img2, None)\n",
    "kp4, d4 = orb_detector.detectAndCompute(fin_img3, None)\n",
    "kp5, d5 = orb_detector.detectAndCompute(fin_img4, None)\n",
    "kp6, d6 = orb_detector.detectAndCompute(fin_img5, None)\n",
    "kp7, d7 = orb_detector.detectAndCompute(fin_img6, None)\n",
    "kp8, d8 = orb_detector.detectAndCompute(fin_img7, None)\n",
    "kp9, d9 = orb_detector.detectAndCompute(fin_img8, None)\n",
    "kp10, d10 = orb_detector.detectAndCompute(fin_img9, None)\n",
    "kp11, d11 = orb_detector.detectAndCompute(fin_img10, None)\n",
    "kp12, d12 = orb_detector.detectAndCompute(fin_img11, None)\n",
    "kp13, d13 = orb_detector.detectAndCompute(fin_img12, None)\n",
    "kp14, d14 = orb_detector.detectAndCompute(fin_img13, None)\n",
    "kp15, d15 = orb_detector.detectAndCompute(fin_img14, None)\n",
    "kp16, d16 = orb_detector.detectAndCompute(fin_img15, None)\n",
    "kp17, d17 = orb_detector.detectAndCompute(fin_img16, None)\n",
    "kp18, d18 = orb_detector.detectAndCompute(fin_img17, None)\n",
    "kp19, d19 = orb_detector.detectAndCompute(fin_img18, None)\n",
    "kp20, d20 = orb_detector.detectAndCompute(fin_img19, None)\n",
    "\n",
    "matcher = cv2.BFMatcher(cv2.NORM_HAMMING, crossCheck = True) \n",
    "\n",
    "matchest = matcher.match(d1, d15) \n",
    "matches = list(matchest)  \n",
    "matches.sort(key = lambda x: x.distance) \n",
    "  \n",
    "matches = matches[:int(len(matches)*0.9)] \n",
    "no_of_matches = len(matches) \n",
    "  \n",
    "p1 = np.zeros((no_of_matches, 2)) \n",
    "p2 = np.zeros((no_of_matches, 2)) \n",
    "  \n",
    "for i in range(len(matches)): \n",
    "  p1[i, :] = kp1[matches[i].queryIdx].pt \n",
    "  p2[i, :] = kp15[matches[i].trainIdx].pt \n",
    "  \n",
    "homography, mask = cv2.findHomography(p1, p2, cv2.RANSAC) \n",
    "  \n",
    "transformed_img_1 = cv2.warpPerspective(fin_img14, \n",
    "                    homography, (256, 256)) \n",
    "\n",
    "flat_output = transformed_img_1.flatten()\n",
    "\n",
    "data = asarray([flat_output])\n",
    "savetxt('data.csv', data, delimiter=',')"
   ]
  }
 ],
 "metadata": {
  "kaggle": {
   "accelerator": "none",
   "dataSources": [
    {
     "databundleVersionId": 6620742,
     "sourceId": 60834,
     "sourceType": "competition"
    }
   ],
   "dockerImageVersionId": 30558,
   "isGpuEnabled": false,
   "isInternetEnabled": false,
   "language": "python",
   "sourceType": "notebook"
  },
  "kernelspec": {
   "display_name": "Python 3 (ipykernel)",
   "language": "python",
   "name": "python3"
  },
  "language_info": {
   "codemirror_mode": {
    "name": "ipython",
    "version": 3
   },
   "file_extension": ".py",
   "mimetype": "text/x-python",
   "name": "python",
   "nbconvert_exporter": "python",
   "pygments_lexer": "ipython3",
   "version": "3.11.4"
  },
  "papermill": {
   "default_parameters": {},
   "duration": 10.124775,
   "end_time": "2023-12-20T08:58:12.111465",
   "environment_variables": {},
   "exception": null,
   "input_path": "__notebook__.ipynb",
   "output_path": "__notebook__.ipynb",
   "parameters": {},
   "start_time": "2023-12-20T08:58:01.986690",
   "version": "2.4.0"
  }
 },
 "nbformat": 4,
 "nbformat_minor": 5
}
